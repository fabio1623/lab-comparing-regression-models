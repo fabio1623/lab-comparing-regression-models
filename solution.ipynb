{
 "cells": [
  {
   "cell_type": "code",
   "execution_count": 414,
   "metadata": {},
   "outputs": [],
   "source": [
    "# Import libraries\n",
    "\n",
    "import pandas as pd\n",
    "import numpy as np\n",
    "import matplotlib.pyplot as plt\n",
    "\n",
    "from sklearn.model_selection import train_test_split\n",
    "from sklearn.metrics import r2_score, mean_squared_error, mean_absolute_error\n",
    "from sklearn.preprocessing import StandardScaler, OneHotEncoder\n",
    "from sklearn import linear_model\n",
    "from sklearn.neighbors import KNeighborsRegressor\n",
    "from sklearn.neural_network import MLPRegressor\n",
    "from sklearn.linear_model import Lasso, Ridge, ElasticNet\n",
    "from sklearn.ensemble import RandomForestRegressor as RFR\n",
    "from xgboost import XGBRegressor as XGBR\n",
    "from lightgbm import LGBMRegressor as LGBMR"
   ]
  },
  {
   "cell_type": "code",
   "execution_count": 396,
   "metadata": {},
   "outputs": [],
   "source": [
    "# Load data\n",
    "\n",
    "customer_df = pd.read_csv('we_fn_use_c_marketing_customer_value_analysis.csv')"
   ]
  },
  {
   "cell_type": "code",
   "execution_count": 397,
   "metadata": {},
   "outputs": [],
   "source": [
    "# Rename columns\n",
    "\n",
    "customer_df.rename(columns=lambda c: c.lower().replace(' ', '_'), inplace=True)\n",
    "customer_df.rename(columns={'employmentstatus': 'employment_status'}, inplace=True)"
   ]
  },
  {
   "cell_type": "code",
   "execution_count": 398,
   "metadata": {},
   "outputs": [],
   "source": [
    "# Transform effective_to_date column into week/weekend\n",
    "\n",
    "def transform_to_week_weekend(cell):\n",
    "    if cell.dayofweek <= 4:\n",
    "        return 'week_day'\n",
    "    return 'weekend'\n",
    "\n",
    "customer_df['effective_to_date'] = pd.to_datetime(customer_df['effective_to_date']).apply(transform_to_week_weekend)"
   ]
  },
  {
   "cell_type": "code",
   "execution_count": 399,
   "metadata": {},
   "outputs": [],
   "source": [
    "# Drop customer column\n",
    "\n",
    "customer_df.drop(columns='customer', axis=1, inplace=True)"
   ]
  },
  {
   "cell_type": "code",
   "execution_count": 400,
   "metadata": {},
   "outputs": [],
   "source": [
    "# Remove policy type from policy column\n",
    "\n",
    "customer_df['policy'] = customer_df['policy'].replace(to_replace='\\w+ ', value='', regex=True)"
   ]
  },
  {
   "cell_type": "code",
   "execution_count": 401,
   "metadata": {},
   "outputs": [],
   "source": [
    "# Unify vehicle_class column\n",
    "\n",
    "def unify_vehicle_class(cell):\n",
    "    if cell in ['Four-Door Car', 'SUV', 'Luxury SUV', 'Luxury Car']:\n",
    "        return 'Luxury Car'\n",
    "    return 'Sports Car'\n",
    "\n",
    "customer_df['vehicle_class'] = customer_df['vehicle_class'].apply(unify_vehicle_class)"
   ]
  },
  {
   "cell_type": "code",
   "execution_count": 402,
   "metadata": {},
   "outputs": [],
   "source": [
    "# Unify employment_status column\n",
    "\n",
    "def unify_employment_status(cell):\n",
    "    if cell in ['Employed', 'Medical Leave', 'Disabled']:\n",
    "        return 'Employed'\n",
    "    return 'Unemployed'\n",
    "\n",
    "customer_df['employment_status'] = customer_df['employment_status'].apply(unify_employment_status)"
   ]
  },
  {
   "cell_type": "code",
   "execution_count": 403,
   "metadata": {},
   "outputs": [],
   "source": [
    "# Map categorical columns into int values\n",
    "\n",
    "def get_mapping(dataframe):\n",
    "    dictionary = {}\n",
    "    values = dataframe.unique()\n",
    "    for idx, val in enumerate(values):\n",
    "        dictionary.update({val : idx})\n",
    "    \n",
    "    return dictionary\n",
    "\n",
    "ordinal_encoding_columns = ['response', 'coverage', 'employment_status', 'vehicle_size']\n",
    "\n",
    "for col_name in ordinal_encoding_columns:\n",
    "    mapping = get_mapping(customer_df[col_name])\n",
    "    customer_df[col_name] = customer_df[col_name].map(mapping)"
   ]
  },
  {
   "cell_type": "code",
   "execution_count": 404,
   "metadata": {},
   "outputs": [],
   "source": [
    "# X-y split\n",
    "\n",
    "X = customer_df.drop(['total_claim_amount'], axis=1)\n",
    "y = customer_df['total_claim_amount']"
   ]
  },
  {
   "cell_type": "code",
   "execution_count": 405,
   "metadata": {},
   "outputs": [],
   "source": [
    "# Train Test Split\n",
    "\n",
    "X_train, X_test, y_train, y_test = train_test_split(X, y, test_size=0.2, random_state=100)"
   ]
  },
  {
   "cell_type": "code",
   "execution_count": 406,
   "metadata": {},
   "outputs": [],
   "source": [
    "# Select numerical features\n",
    "\n",
    "numericals_train = X_train.select_dtypes(np.number)\n",
    "numericals_test = X_test.select_dtypes(np.number)"
   ]
  },
  {
   "cell_type": "code",
   "execution_count": 407,
   "metadata": {},
   "outputs": [],
   "source": [
    "# Standardize numerical features\n",
    "\n",
    "transformer = StandardScaler().fit(numericals_train)\n",
    "numericals_train_standardized = transformer.transform(numericals_train)\n",
    "numericals_test_standardized = transformer.transform(numericals_test)"
   ]
  },
  {
   "cell_type": "code",
   "execution_count": 408,
   "metadata": {},
   "outputs": [],
   "source": [
    "# Select categorical features\n",
    "\n",
    "categoricals_train= X_train.select_dtypes(object)\n",
    "categoricals_test= X_test.select_dtypes(object)"
   ]
  },
  {
   "cell_type": "code",
   "execution_count": 409,
   "metadata": {},
   "outputs": [],
   "source": [
    "# One Hot encode categorical features\n",
    "\n",
    "encoder = OneHotEncoder(handle_unknown='error', drop='first').fit(categoricals_train)\n",
    "categoricals_train_encoded = encoder.transform(categoricals_train).toarray()\n",
    "categoricals_test_encoded = encoder.transform(categoricals_test).toarray()"
   ]
  },
  {
   "cell_type": "code",
   "execution_count": 410,
   "metadata": {},
   "outputs": [],
   "source": [
    "# Concat numerical and categorical features\n",
    "\n",
    "X_train = np.concatenate((numericals_train_standardized,categoricals_train_encoded),axis=1)\n",
    "X_test = np.concatenate((numericals_test_standardized,categoricals_test_encoded),axis=1)"
   ]
  },
  {
   "cell_type": "code",
   "execution_count": 411,
   "metadata": {},
   "outputs": [
    {
     "name": "stdout",
     "output_type": "stream",
     "text": [
      "Model: LinearRegression(), train R2: 0.7695989919779721 -- test R2: 0.7684686726347569\n"
     ]
    }
   ],
   "source": [
    "# Test linear regression\n",
    "\n",
    "LR = linear_model.LinearRegression()\n",
    "LR.fit(X_train,y_train)\n",
    "\n",
    "train_score=LR.score(X_train, y_train)\n",
    "test_score=LR.score(X_test, y_test)\n",
    "print ('Model: {}, train R2: {} -- test R2: {}'.format(LR, train_score, test_score))"
   ]
  },
  {
   "cell_type": "code",
   "execution_count": 413,
   "metadata": {},
   "outputs": [],
   "source": [
    "# Try to detect best n_neighbors for KNeighborsRegressor\n",
    "\n",
    "train_scores = []\n",
    "test_scores = []\n",
    "for k in range(2,25):\n",
    "    model = KNeighborsRegressor(n_neighbors=k)\n",
    "    model.fit(X_train, y_train)\n",
    "    train_scores.append(model.score(X_train, y_train))\n",
    "    test_scores.append(model.score(X_test, y_test))"
   ]
  },
  {
   "cell_type": "code",
   "execution_count": 415,
   "metadata": {},
   "outputs": [
    {
     "data": {
      "image/png": "[encoded data removed]",
      "text/plain": [
       "<Figure size 1000x600 with 1 Axes>"
      ]
     },
     "metadata": {},
     "output_type": "display_data"
    }
   ],
   "source": [
    "# Plot n_neighbors results for KNeighborsRegressor \n",
    "\n",
    "plt.figure(figsize=(10,6))\n",
    "plt.plot(range(2,25),test_scores,color = 'blue', linestyle='dashed',\n",
    "         marker='o', markerfacecolor='red', markersize=10)\n",
    "plt.title('R2-scores vs. K Value')\n",
    "plt.gca().invert_yaxis()\n",
    "plt.xlabel('K')\n",
    "plt.ylabel('Accuracy')\n",
    "plt.show()"
   ]
  },
  {
   "cell_type": "code",
   "execution_count": null,
   "metadata": {},
   "outputs": [],
   "source": [
    "# Best n_neighbors for KNeighborsRegressor seems to be 4"
   ]
  },
  {
   "cell_type": "code",
   "execution_count": 416,
   "metadata": {},
   "outputs": [
    {
     "name": "stderr",
     "output_type": "stream",
     "text": [
      "/opt/anaconda3/lib/python3.9/site-packages/sklearn/neural_network/_multilayer_perceptron.py:692: ConvergenceWarning: Stochastic Optimizer: Maximum iterations (200) reached and the optimization hasn't converged yet.\n",
      "  warnings.warn(\n"
     ]
    },
    {
     "data": {
      "text/plain": [
       "{'LinearRegression()': {'train_score': 0.7695989919779721,\n",
       "  'test_score': 0.7684686726347569},\n",
       " 'KNeighborsRegressor(n_neighbors=4)': {'train_score': 0.780729703739754,\n",
       "  'test_score': 0.6342840892323167},\n",
       " 'MLPRegressor()': {'train_score': 0.8227213102452429,\n",
       "  'test_score': 0.8252752837022019},\n",
       " 'Lasso()': {'train_score': 0.7682964915128249,\n",
       "  'test_score': 0.7677985872126191},\n",
       " 'Ridge()': {'train_score': 0.7695984236510922,\n",
       "  'test_score': 0.7684456573584447},\n",
       " 'ElasticNet()': {'train_score': 0.5880069530196016,\n",
       "  'test_score': 0.5682823924723173},\n",
       " 'RandomForestRegressor()': {'train_score': 0.9769577663376562,\n",
       "  'test_score': 0.8544968523493721},\n",
       " \"XGBRegressor(base_score=0.5, booster='gbtree', colsample_bylevel=1,\\n             colsample_bynode=1, colsample_bytree=1, enable_categorical=False,\\n             gamma=0, gpu_id=-1, importance_type=None,\\n             interaction_constraints='', learning_rate=0.300000012,\\n             max_delta_step=0, max_depth=6, min_child_weight=1, missing=nan,\\n             monotone_constraints='()', n_estimators=100, n_jobs=10,\\n             num_parallel_tree=1, predictor='auto', random_state=0, reg_alpha=0,\\n             reg_lambda=1, scale_pos_weight=1, subsample=1, tree_method='exact',\\n             validate_parameters=1, verbosity=None)\": {'train_score': 0.9680990738349673,\n",
       "  'test_score': 0.8421046784673919},\n",
       " 'LGBMRegressor()': {'train_score': 0.9124760198162961,\n",
       "  'test_score': 0.8523326674871416}}"
      ]
     },
     "execution_count": 416,
     "metadata": {},
     "output_type": "execute_result"
    }
   ],
   "source": [
    "def compare_models(models):\n",
    "    results = {}\n",
    "    for model in models:\n",
    "        model.fit(X_train,y_train)\n",
    "        results.update({\n",
    "            f'{model}': {\n",
    "                'train_score' : model.score(X_train, y_train),\n",
    "                'test_score' : model.score(X_test, y_test)\n",
    "            }\n",
    "        })\n",
    "\n",
    "    return results\n",
    "\n",
    "models_to_test = [\n",
    "    linear_model.LinearRegression(),\n",
    "    KNeighborsRegressor(n_neighbors=4),\n",
    "    MLPRegressor(),\n",
    "    Lasso(),\n",
    "    Ridge(),\n",
    "    ElasticNet(),\n",
    "    RFR(),\n",
    "    XGBR(),\n",
    "    LGBMR()\n",
    "]\n",
    "\n",
    "result = compare_models(models_to_test)\n",
    "result"
   ]
  },
  {
   "cell_type": "code",
   "execution_count": null,
   "metadata": {},
   "outputs": [],
   "source": [
    "# Formatted values\n",
    "\n",
    "# 'LinearRegression()': {'train_score': 0.7695989919779721,'test_score': 0.7684686726347569},\n",
    "# 'KNeighborsRegressor(n_neighbors=4)': {'train_score': 0.780729703739754,'test_score': 0.6342840892323167},\n",
    "# 'MLPRegressor()': {'train_score': 0.8227213102452429,'test_score': 0.8252752837022019},\n",
    "# 'Lasso()': {'train_score': 0.7682964915128249,'test_score': 0.7677985872126191},\n",
    "# 'Ridge()': {'train_score': 0.7695984236510922,'test_score': 0.7684456573584447},\n",
    "# 'ElasticNet()': {'train_score': 0.5880069530196016,'test_score': 0.5682823924723173},\n",
    "# 'RandomForestRegressor()': {'train_score': 0.9769577663376562,'test_score': 0.8544968523493721},\n",
    "# \"XGBRegressor()\": {'train_score': 0.9680990738349673,'test_score': 0.8421046784673919},\n",
    "# 'LGBMRegressor()': {'train_score': 0.9124760198162961,'test_score': 0.8523326674871416}"
   ]
  },
  {
   "cell_type": "code",
   "execution_count": null,
   "metadata": {},
   "outputs": [],
   "source": [
    "# It seems that LinearRegression performs better than KNeighborsRegressor here.\n",
    "# If we take into account the other models, LGBMRegressor gives better results"
   ]
  },
  {
   "cell_type": "code",
   "execution_count": 1,
   "metadata": {},
   "outputs": [
    {
     "ename": "NameError",
     "evalue": "name 'customer_df' is not defined",
     "output_type": "error",
     "traceback": [
      "\u001b[0;31m---------------------------------------------------------------------------\u001b[0m",
      "\u001b[0;31mNameError\u001b[0m                                 Traceback (most recent call last)",
      "\u001b[0;32m/var/folders/x6/07vbnp4935lcxx8dmdvxd3700000gn/T/ipykernel_59749/1129989917.py\u001b[0m in \u001b[0;36m<module>\u001b[0;34m\u001b[0m\n\u001b[1;32m      1\u001b[0m \u001b[0;31m# Export Dataframe into csv\u001b[0m\u001b[0;34m\u001b[0m\u001b[0;34m\u001b[0m\u001b[0m\n\u001b[1;32m      2\u001b[0m \u001b[0;34m\u001b[0m\u001b[0m\n\u001b[0;32m----> 3\u001b[0;31m \u001b[0mcustomer_df\u001b[0m\u001b[0;34m.\u001b[0m\u001b[0mto_csv\u001b[0m\u001b[0;34m(\u001b[0m\u001b[0;34m'marketing_customer_analysis_cleaned.csv'\u001b[0m\u001b[0;34m)\u001b[0m\u001b[0;34m\u001b[0m\u001b[0;34m\u001b[0m\u001b[0m\n\u001b[0m",
      "\u001b[0;31mNameError\u001b[0m: name 'customer_df' is not defined"
     ]
    }
   ],
   "source": [
    "# Export Dataframe into csv\n",
    "\n",
    "customer_df.to_csv('marketing_customer_analysis_cleaned.csv')"
   ]
  },
  {
   "cell_type": "code",
   "execution_count": null,
   "metadata": {},
   "outputs": [],
   "source": []
  }
 ],
 "metadata": {
  "kernelspec": {
   "display_name": "base",
   "language": "python",
   "name": "python3"
  },
  "language_info": {
   "codemirror_mode": {
    "name": "ipython",
    "version": 3
   },
   "file_extension": ".py",
   "mimetype": "text/x-python",
   "name": "python",
   "nbconvert_exporter": "python",
   "pygments_lexer": "ipython3",
   "version": "3.9.13"
  },
  "orig_nbformat": 4,
  "vscode": {
   "interpreter": {
    "hash": "40d3a090f54c6569ab1632332b64b2c03c39dcf918b08424e98f38b5ae0af88f"
   }
  }
 },
 "nbformat": 4,
 "nbformat_minor": 2
}
